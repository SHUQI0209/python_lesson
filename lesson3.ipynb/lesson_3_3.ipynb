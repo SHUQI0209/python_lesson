{
 "cells": [
  {
   "cell_type": "markdown",
   "id": "ec855b05",
   "metadata": {},
   "source": [
    "計算三角形的角度"
   ]
  },
  {
   "cell_type": "code",
   "execution_count": 6,
   "id": "0d294d44",
   "metadata": {},
   "outputs": [
    {
     "name": "stdout",
     "output_type": "stream",
     "text": [
      "對邊:2.5 斜邊:5.0 徑度是0.5235987755982989 角度:30.0\n"
     ]
    }
   ],
   "source": [
    "import math\n",
    "side = float(input(\"請輸入對邊:\"))\n",
    "another_side = float(input(\"請輸入斜邊:\"))\n",
    "radians = math.asin(side / another_side)\n",
    "degree = math.degrees(radians)\n",
    "print(f\"對邊:{side} 斜邊:{another_side} 徑度是{radians} 角度:{round(degree,ndigits=2)}\")\n"
   ]
  }
 ],
 "metadata": {
  "kernelspec": {
   "display_name": "base",
   "language": "python",
   "name": "python3"
  },
  "language_info": {
   "codemirror_mode": {
    "name": "ipython",
    "version": 3
   },
   "file_extension": ".py",
   "mimetype": "text/x-python",
   "name": "python",
   "nbconvert_exporter": "python",
   "pygments_lexer": "ipython3",
   "version": "3.12.7"
  }
 },
 "nbformat": 4,
 "nbformat_minor": 5
}
