{
 "cells": [
  {
   "cell_type": "markdown",
   "id": "9d7fd841",
   "metadata": {},
   "source": [
    "if-＞ 流程控制"
   ]
  },
  {
   "cell_type": "code",
   "execution_count": 2,
   "id": "9f908328",
   "metadata": {},
   "outputs": [
    {
     "name": "stdout",
     "output_type": "stream",
     "text": [
      "雙項選擇\n",
      "這是True的程式區塊\n"
     ]
    }
   ],
   "source": [
    "if True:\n",
    "    print(\"雙項選擇\")\n",
    "    print(\"這是True的程式區塊\")\n",
    "else:\n",
    "    print(\"雙項選擇\")\n",
    "    print(\"這是False的程式區塊\")\n"
   ]
  },
  {
   "cell_type": "code",
   "execution_count": 3,
   "id": "b0f05d2e",
   "metadata": {},
   "outputs": [
    {
     "name": "stdout",
     "output_type": "stream",
     "text": [
      "雙項選擇\n",
      "這是False的程式區塊\n"
     ]
    }
   ],
   "source": [
    "if False:\n",
    "    print(\"雙項選擇\")\n",
    "    print(\"這是True的程式區塊\")\n",
    "else:\n",
    "    print(\"雙項選擇\")\n",
    "    print(\"這是False的程式區塊\")"
   ]
  },
  {
   "cell_type": "code",
   "execution_count": 4,
   "id": "3e852b0d",
   "metadata": {},
   "outputs": [
    {
     "name": "stdout",
     "output_type": "stream",
     "text": [
      "這是單項選擇\n",
      "這是True的程式區塊\n"
     ]
    }
   ],
   "source": [
    "if True:\n",
    "    print(\"這是單項選擇\")\n",
    "    print(\"這是True的程式區塊\")"
   ]
  },
  {
   "cell_type": "code",
   "execution_count": 11,
   "id": "53526dac",
   "metadata": {},
   "outputs": [
    {
     "data": {
      "text/plain": [
       "False"
      ]
     },
     "execution_count": 11,
     "metadata": {},
     "output_type": "execute_result"
    }
   ],
   "source": [
    "5>3\n",
    "20==20\n",
    "20!=20"
   ]
  },
  {
   "cell_type": "code",
   "execution_count": null,
   "id": "8ce2e188",
   "metadata": {},
   "outputs": [
    {
     "name": "stdout",
     "output_type": "stream",
     "text": [
      "True\n",
      "True\n",
      "False\n"
     ]
    }
   ],
   "source": [
    "\n",
    "print(5>3)\n",
    "print(20==20)\n",
    "print(20!=20)"
   ]
  },
  {
   "cell_type": "code",
   "execution_count": 8,
   "id": "ce39d30b",
   "metadata": {},
   "outputs": [
    {
     "name": "stdout",
     "output_type": "stream",
     "text": [
      "成年\n"
     ]
    }
   ],
   "source": [
    "age = int(input(\"請輸入age:\"))\n",
    "if age < 18:\n",
    "    print(\"未成年\")\n",
    "else:\n",
    "    print(\"成年\")"
   ]
  },
  {
   "cell_type": "code",
   "execution_count": 14,
   "id": "97383cca",
   "metadata": {},
   "outputs": [
    {
     "name": "stdout",
     "output_type": "stream",
     "text": [
      "未成年\n"
     ]
    }
   ],
   "source": [
    "age = int(input(\"請輸入age:\"))\n",
    "if age >= 18:\n",
    "    print(\"成年\")\n",
    "else:\n",
    "    print(\"未成年\")"
   ]
  },
  {
   "cell_type": "markdown",
   "id": "c1728f61",
   "metadata": {},
   "source": [
    "學生總分為300\n",
    "\n",
    "有些學生可以加分5%"
   ]
  },
  {
   "cell_type": "code",
   "execution_count": 5,
   "id": "53548ee9",
   "metadata": {},
   "outputs": [
    {
     "name": "stdout",
     "output_type": "stream",
     "text": [
      "學生分數是:210\n"
     ]
    }
   ],
   "source": [
    "\n",
    "scores = int(input(\"請輸入學生分數(最高300分):\"))\n",
    "is_add = input(\"學生是否符合加分條件?(y,n)\")\n",
    "if (is_add == \"y\"):\n",
    "    scores *= 1.05\n",
    "    \n",
    "print(f\"學生分數是:{round(scores)}\")"
   ]
  },
  {
   "cell_type": "markdown",
   "id": "573a9993",
   "metadata": {},
   "source": [
    "學生總分為300\n",
    "\n",
    "有些學生可以加分5%\n",
    "\n",
    "如果加分超過300分，就以300分為準"
   ]
  },
  {
   "cell_type": "code",
   "execution_count": 4,
   "id": "b226ddbb",
   "metadata": {},
   "outputs": [
    {
     "name": "stdout",
     "output_type": "stream",
     "text": [
      "學生分數是:300\n"
     ]
    }
   ],
   "source": [
    "scores = int(input(\"請輸入學生分數(最高300分):\"))\n",
    "is_add = input(\"學生是否符合加分條件?(y,n)\")\n",
    "if (is_add == \"y\"):\n",
    "    scores *= 1.05\n",
    "    if scores > 300:\n",
    "        scores = 300\n",
    "\n",
    "print(f\"學生分數是:{round(scores)}\")"
   ]
  },
  {
   "cell_type": "markdown",
   "id": "911fadfe",
   "metadata": {},
   "source": [
    "處理raise Exception ** try: except:處理錯誤"
   ]
  },
  {
   "cell_type": "code",
   "execution_count": 6,
   "id": "56f6b717",
   "metadata": {},
   "outputs": [
    {
     "name": "stdout",
     "output_type": "stream",
     "text": [
      "發生錯誤\n"
     ]
    }
   ],
   "source": [
    "try:\n",
    "    25 / 0\n",
    "except:\n",
    "    print(\"發生錯誤\")"
   ]
  },
  {
   "cell_type": "code",
   "execution_count": 7,
   "id": "60b8bc69",
   "metadata": {},
   "outputs": [
    {
     "name": "stdout",
     "output_type": "stream",
     "text": [
      "發生錯誤\n",
      "程式結束\n"
     ]
    }
   ],
   "source": [
    "divitionBy = 0\n",
    "try:\n",
    "    print(25 / divitionBy)\n",
    "except:\n",
    "    print(\"發生錯誤\")\n",
    "\n",
    "print(\"程式結束\")"
   ]
  },
  {
   "cell_type": "code",
   "execution_count": 9,
   "id": "3a15ff4f",
   "metadata": {},
   "outputs": [
    {
     "name": "stdout",
     "output_type": "stream",
     "text": [
      "除數不可以為0\n",
      "程式結束\n"
     ]
    }
   ],
   "source": [
    "divitionBy = 0\n",
    "try:\n",
    "    print(25 / divitionBy)\n",
    "except ZeroDivisionError:\n",
    "    print(\"除數不可以為0\")\n",
    "except:\n",
    "    print(\"發生不知明的錯誤\")\n",
    "print(\"程式結束\")"
   ]
  },
  {
   "cell_type": "code",
   "execution_count": null,
   "id": "98422234",
   "metadata": {},
   "outputs": [
    {
     "name": "stdout",
     "output_type": "stream",
     "text": [
      "發生不知明的錯誤\n",
      "程式結束\n"
     ]
    }
   ],
   "source": [
    "divitionBy = 0\n",
    "try:\n",
    "    print(30 /\"10\")\n",
    "    print(25 / divitionBy)\n",
    "except ZeroDivisionError:\n",
    "    print(\"除數不可以為0\")\n",
    "except:\n",
    "    print(\"發生不知明的錯誤\")\n",
    "print(\"程式結束\")"
   ]
  },
  {
   "cell_type": "code",
   "execution_count": null,
   "id": "37b073e8",
   "metadata": {},
   "outputs": [],
   "source": []
  }
 ],
 "metadata": {
  "kernelspec": {
   "display_name": "base",
   "language": "python",
   "name": "python3"
  },
  "language_info": {
   "codemirror_mode": {
    "name": "ipython",
    "version": 3
   },
   "file_extension": ".py",
   "mimetype": "text/x-python",
   "name": "python",
   "nbconvert_exporter": "python",
   "pygments_lexer": "ipython3",
   "version": "3.12.7"
  }
 },
 "nbformat": 4,
 "nbformat_minor": 5
}
