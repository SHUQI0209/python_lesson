{
 "cells": [
  {
   "cell_type": "markdown",
   "id": "ec855b05",
   "metadata": {},
   "source": [
    "計算三角形的角度"
   ]
  },
  {
   "cell_type": "code",
   "execution_count": 6,
   "id": "0d294d44",
   "metadata": {},
   "outputs": [
    {
     "name": "stdout",
     "output_type": "stream",
     "text": [
      "對邊:2.5 斜邊:5.0 徑度是0.5235987755982989 角度:30.0\n"
     ]
    }
   ],
   "source": [
    "import math\n",
    "side = float(input(\"請輸入對邊:\"))\n",
    "another_side = float(input(\"請輸入斜邊:\"))\n",
    "radians = math.asin(side / another_side)\n",
    "degree = math.degrees(radians)\n",
    "print(f\"對邊:{side} 斜邊:{another_side} 徑度是{radians} 角度:{round(degree,ndigits=2)}\")\n"
   ]
  },
  {
   "cell_type": "markdown",
   "id": "e252b43f",
   "metadata": {},
   "source": [
    "tuple"
   ]
  },
  {
   "cell_type": "code",
   "execution_count": 9,
   "id": "0eeae62b",
   "metadata": {},
   "outputs": [
    {
     "data": {
      "text/plain": [
       "(56, 79, 68)"
      ]
     },
     "execution_count": 9,
     "metadata": {},
     "output_type": "execute_result"
    }
   ],
   "source": [
    "56\n",
    "56,79\n",
    "56,79,68"
   ]
  },
  {
   "cell_type": "markdown",
   "id": "5b289360",
   "metadata": {},
   "source": [
    "平均值、標準差"
   ]
  },
  {
   "cell_type": "code",
   "execution_count": 13,
   "id": "145b99be",
   "metadata": {},
   "outputs": [
    {
     "name": "stdout",
     "output_type": "stream",
     "text": [
      "25.0 27.0 29.0\n",
      "平均值:27.00 標準差:2.00\n"
     ]
    }
   ],
   "source": [
    "import statistics\n",
    "n1 = float(input(\"請輸入第1個數:\"))\n",
    "n2 = float(input(\"請輸入第1個數:\"))\n",
    "n3 = float(input(\"請輸入第3個數:\"))\n",
    "average = statistics.mean((n1,n2,n3))\n",
    "std = statistics.stdev((n1,n2,n3))\n",
    "print(n1,n2,n3)\n",
    "print(f\"平均值:{average:.2f} 標準差:{std:.2f}\")\n"
   ]
  }
 ],
 "metadata": {
  "kernelspec": {
   "display_name": "base",
   "language": "python",
   "name": "python3"
  },
  "language_info": {
   "codemirror_mode": {
    "name": "ipython",
    "version": 3
   },
   "file_extension": ".py",
   "mimetype": "text/x-python",
   "name": "python",
   "nbconvert_exporter": "python",
   "pygments_lexer": "ipython3",
   "version": "3.12.7"
  }
 },
 "nbformat": 4,
 "nbformat_minor": 5
}
