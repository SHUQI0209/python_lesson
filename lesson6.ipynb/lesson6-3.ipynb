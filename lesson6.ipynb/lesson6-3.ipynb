{
 "cells": [
  {
   "cell_type": "code",
   "execution_count": 19,
   "id": "2c98fd57",
   "metadata": {},
   "outputs": [],
   "source": [
    "from dataclasses import dataclass\n",
    "\n",
    "@dataclass\n",
    "class Student:\n",
    "    name:str\n",
    "    chinese:int\n",
    "    english:int\n",
    "    math:int\n",
    "\n",
    "    @property\n",
    "    def sum(self):\n",
    "        return self.chinese + self.english + self.math\n",
    "\n",
    "    def average(self): #實體方法\n",
    "        return round(self.sum / 3.0,ndigits=2)"
   ]
  },
  {
   "cell_type": "code",
   "execution_count": 20,
   "id": "7ca7db41",
   "metadata": {},
   "outputs": [],
   "source": [
    "stu1:Student = Student(name=\"robert\",\n",
    "                       chinese=98,\n",
    "                       english=75,\n",
    "                       math=69)\n",
    "\n",
    "stu2:Student = Student(name=\"jenny\",\n",
    "                       chinese=87,\n",
    "                       english=92,\n",
    "                       math=75)\n"
   ]
  },
  {
   "cell_type": "code",
   "execution_count": 21,
   "id": "5ad12f33",
   "metadata": {},
   "outputs": [
    {
     "data": {
      "text/plain": [
       "('robert', 98, 75, 69)"
      ]
     },
     "execution_count": 21,
     "metadata": {},
     "output_type": "execute_result"
    }
   ],
   "source": [
    "stu1.name, stu1.chinese, stu1.english, stu1.math #tuple"
   ]
  },
  {
   "cell_type": "code",
   "execution_count": 22,
   "id": "b604cc49",
   "metadata": {},
   "outputs": [
    {
     "name": "stdout",
     "output_type": "stream",
     "text": [
      "robert 100 75 69\n"
     ]
    }
   ],
   "source": [
    "stu1.chinese=100\n",
    "print(stu1.name, stu1.chinese, stu1.english, stu1.math) #tuple"
   ]
  },
  {
   "cell_type": "code",
   "execution_count": 23,
   "id": "8407e3a7",
   "metadata": {},
   "outputs": [
    {
     "name": "stdout",
     "output_type": "stream",
     "text": [
      "('robert', 100, 75, 69)\n",
      "244\n"
     ]
    }
   ],
   "source": [
    "stu1.chinese = 100\n",
    "#stu1.sum = 300 一般的property只可以讀,不可以寫入(readonly)\n",
    "print((stu1.name, stu1.chinese, stu1.english, stu1.math)) \n",
    "print(stu1.sum)"
   ]
  },
  {
   "cell_type": "code",
   "execution_count": 27,
   "id": "fc269321",
   "metadata": {},
   "outputs": [
    {
     "name": "stdout",
     "output_type": "stream",
     "text": [
      "('jenny', 87, 92, 75)\n",
      "254\n"
     ]
    }
   ],
   "source": [
    "print((stu2.name, stu2.chinese, stu2.english, stu2.math))\n",
    "print(stu2.sum)"
   ]
  },
  {
   "cell_type": "code",
   "execution_count": 24,
   "id": "f2df39e8",
   "metadata": {},
   "outputs": [
    {
     "name": "stdout",
     "output_type": "stream",
     "text": [
      "('robert', 100, 75, 69)\n",
      "244\n",
      "81.33\n"
     ]
    }
   ],
   "source": [
    "stu1.chinese = 100\n",
    "#stu1.sum = 300 一般的property只可以讀,不可以寫入(readonly)\n",
    "print((stu1.name, stu1.chinese, stu1.english, stu1.math)) \n",
    "print(stu1.sum) #呼叫property\n",
    "print(stu1.average()) #呼叫實體方法"
   ]
  },
  {
   "cell_type": "code",
   "execution_count": 25,
   "id": "aa4b5930",
   "metadata": {},
   "outputs": [
    {
     "name": "stdout",
     "output_type": "stream",
     "text": [
      "('jenny', 87, 92, 75)\n",
      "254\n",
      "84.67\n"
     ]
    }
   ],
   "source": [
    "print((stu2.name, stu2.chinese, stu2.english, stu2.math))\n",
    "print(stu2.sum)\n",
    "print(stu2.average())"
   ]
  }
 ],
 "metadata": {
  "kernelspec": {
   "display_name": "base",
   "language": "python",
   "name": "python3"
  },
  "language_info": {
   "codemirror_mode": {
    "name": "ipython",
    "version": 3
   },
   "file_extension": ".py",
   "mimetype": "text/x-python",
   "name": "python",
   "nbconvert_exporter": "python",
   "pygments_lexer": "ipython3",
   "version": "3.12.7"
  }
 },
 "nbformat": 4,
 "nbformat_minor": 5
}
