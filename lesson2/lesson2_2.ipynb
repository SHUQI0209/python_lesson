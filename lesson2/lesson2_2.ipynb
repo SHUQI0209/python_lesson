{
 "cells": [
  {
   "cell_type": "code",
   "execution_count": 3,
   "id": "1f2e498e",
   "metadata": {},
   "outputs": [
    {
     "name": "stdout",
     "output_type": "stream",
     "text": [
      "這是第1個數值:10\n",
      "這是第2個數值:20.0\n",
      "這是第1個數值: 10 \n",
      "這是第2個數值: 20.0\n",
      "這是第1個數值:10\n",
      "這是第2個數值:20.0\n"
     ]
    }
   ],
   "source": [
    "\"這是字串\"\n",
    "'這也是字串'\n",
    "print('這是第1個數值:' + str(10) + \"\\n這是第2個數值:\" + str(20.0))\n",
    "print('這是第1個數值:',str(10), \"\\n這是第2個數值:\", str(20.0))\n",
    "print(f\"這是第1個數值:{10}\\n這是第2個數值:{20.0}\") ##字串插補\n"
   ]
  },
  {
   "cell_type": "code",
   "execution_count": 4,
   "id": "58db5457",
   "metadata": {},
   "outputs": [
    {
     "name": "stdout",
     "output_type": "stream",
     "text": [
      "Python!World!\n",
      "Hello!World!\n"
     ]
    }
   ],
   "source": [
    "print(\"Python!World!\")\n",
    "print(\"Hello!World!\")"
   ]
  },
  {
   "cell_type": "code",
   "execution_count": 5,
   "id": "b6ca9167",
   "metadata": {},
   "outputs": [
    {
     "name": "stdout",
     "output_type": "stream",
     "text": [
      "4032\n"
     ]
    }
   ],
   "source": [
    "n1=56*72\n",
    "print(n1)"
   ]
  },
  {
   "cell_type": "code",
   "execution_count": 6,
   "id": "a285b0dd",
   "metadata": {},
   "outputs": [
    {
     "name": "stdout",
     "output_type": "stream",
     "text": [
      "矩型的寬是:45.78,高是:92.57,面積是:4237.8546\n"
     ]
    }
   ],
   "source": [
    "width = 45.78\n",
    "height = 92.57\n",
    "area = width * height\n",
    "\n",
    "print(f\"矩型的寬是:{width},高是:{height},面積是:{area}\")"
   ]
  }
 ],
 "metadata": {
  "kernelspec": {
   "display_name": "base",
   "language": "python",
   "name": "python3"
  },
  "language_info": {
   "codemirror_mode": {
    "name": "ipython",
    "version": 3
   },
   "file_extension": ".py",
   "mimetype": "text/x-python",
   "name": "python",
   "nbconvert_exporter": "python",
   "pygments_lexer": "ipython3",
   "version": "3.12.7"
  }
 },
 "nbformat": 4,
 "nbformat_minor": 5
}
