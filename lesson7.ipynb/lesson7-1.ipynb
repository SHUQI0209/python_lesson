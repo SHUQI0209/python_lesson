{
 "cells": [
  {
   "cell_type": "markdown",
   "id": "6bdc8e86",
   "metadata": {},
   "source": [
    "如何python取得目前專案內的names.txt的絕對位置"
   ]
  },
  {
   "cell_type": "code",
   "execution_count": null,
   "id": "639580d4",
   "metadata": {
    "vscode": {
     "languageId": "ini"
    }
   },
   "outputs": [],
   "source": [
    "範例1\n",
    "\n",
    "import os\n",
    "\n",
    "# 假設 names.txt 在目前執行的程式碼所在目錄（或專案根目錄）\n",
    "file_name = \"names.txt\"\n",
    "\n",
    "# 取得絕對路徑\n",
    "abs_path = os.path.abspath(file_name)\n",
    "\n",
    "print(abs_path)\n",
    "\n",
    "範例2\n",
    "\n",
    "import os\n",
    "\n",
    "# 取得目前 Python 腳本的所在目錄\n",
    "current_dir = os.path.dirname(os.path.abspath(__file__))\n",
    "\n",
    "# 組合成 names.txt 的絕對路徑\n",
    "file_path = os.path.join(current_dir, \"names.txt\")\n",
    "\n",
    "print(file_path)"
   ]
  },
  {
   "cell_type": "markdown",
   "id": "e0b5f860",
   "metadata": {},
   "source": [
    "python如何讀取names.txt"
   ]
  },
  {
   "cell_type": "code",
   "execution_count": null,
   "id": "1cdfe13b",
   "metadata": {
    "vscode": {
     "languageId": "ini"
    }
   },
   "outputs": [],
   "source": [
    "你可以用 Python 內建的 open() 函數來讀取 names.txt，常見的讀取方法有三種：\n",
    "\n",
    "1. 一次讀取整個檔案內容（字串形式）\n",
    "with open(\"names.txt\", \"r\", encoding=\"utf-8\") as f:\n",
    "    data = f.read()\n",
    "    print(data)\n",
    "這會將整個檔案內容讀取成一個字串[1][3][6]。\n",
    "\n",
    "2. 一次讀取一行（讀取第一行）\n",
    "with open(\"names.txt\", \"r\", encoding=\"utf-8\") as f:\n",
    "    line = f.readline()\n",
    "    print(line)\n",
    "這只會讀取檔案的第一行[1][3][6]。\n",
    "\n",
    "3. 讀取所有行，回傳為串列（list）\n",
    "with open(\"names.txt\", \"r\", encoding=\"utf-8\") as f:\n",
    "    lines = f.readlines()\n",
    "    for line in lines:\n",
    "        print(line.strip())  # 去除換行符號\n",
    "這會將檔案所有行讀取成串列，每一行是串列的一個元素[1][3][6]。\n",
    "\n",
    "補充說明\n",
    "· 建議使用 with open() 方式開啟檔案，會自動幫你關閉檔案。\n",
    "· 若檔案中有中文，請加上 encoding=\"utf-8\" 以避免亂碼。\n",
    "· strip() 可以去除每行字串尾端的換行符號\\n，讓輸出更整齊[1][3]\n",
    "\n",
    "這些方法都適合讀取 names.txt 這類純文字檔案。你可以依需求選擇一次讀全部或逐行讀取的方式。"
   ]
  },
  {
   "cell_type": "markdown",
   "id": "2ba5fe01",
   "metadata": {},
   "source": [
    "list comprehensions"
   ]
  },
  {
   "cell_type": "code",
   "execution_count": null,
   "id": "6f1a9b1a",
   "metadata": {
    "vscode": {
     "languageId": "ini"
    }
   },
   "outputs": [],
   "source": [
    "Python 中 list comprehension 的語法結構如下：\n",
    "\n",
    "[expression for item in iterable (if condition)]\n",
    "\n",
    "· expression：用來決定新串列中每個元素的值，可以是運算式或函式呼叫。\n",
    "· for item in iterable：從可迭代物件（如串列、range 等）中依序取出元素。\n",
    "· if condition（可選）：篩選條件，只有符合條件的元素才會被包含在結果串列中。\n",
    "\n",
    "範例：\n",
    "# 建立一個包含 0~4 乘以 2 的串列\n",
    "my_list = [i * 2 for i in range(5)]\n",
    "print(my_list)  # 輸出: [0, 2, 4, 6, 8]\n",
    "\n",
    "# 篩選出大於 2 的元素並乘以 3\n",
    "filtered_list = [x * 3 for x in range(10) if x > 2]\n",
    "print(filtered_list)  # 輸出: [9, 12, 15, 18, 21, 24, 27]\n",
    "list comprehension 不僅能簡化程式碼，還通常比傳統的 for 迴圈執行效率更高[1][3][5]。\n",
    "\n",
    "\n",
    "file = open(abs_path,encoding='utf-8')"
   ]
  },
  {
   "cell_type": "markdown",
   "id": "fc294233",
   "metadata": {},
   "source": [
    "file為什麼要關閉,如何關閉?"
   ]
  },
  {
   "cell_type": "code",
   "execution_count": null,
   "id": "daf521bd",
   "metadata": {
    "vscode": {
     "languageId": "ini"
    }
   },
   "outputs": [],
   "source": [
    "在 Python 中，file 物件代表一個已開啟的檔案。必須關閉檔案的原因主要有以下幾點：\n",
    "\n",
    "· 釋放系統資源：檔案是有限的系統資源，若不關閉，可能導致檔案描述符耗盡，無法再開啟新檔案[1][2][3]。\n",
    "· 確保資料寫入磁碟：寫入檔案時，資料會先暫存在緩衝區，只有呼叫 close() 或檔案被關閉時，緩衝區的資料才會被真正寫入磁碟，避免資料遺失或損壞[2][3][4][7]。\n",
    "· 避免檔案鎖定：未關閉的檔案可能會被鎖定，阻止其他程式或使用者存取該檔案[7]\n",
    "\n",
    "如何關閉檔案？\n",
    "1.手動呼叫 close() 方法\n",
    "file = open(abs_path, encoding='utf-8')\n",
    "# 讀寫操作\n",
    "file.close()\n",
    "\n",
    "2.使用 with 語句（推薦）\n",
    "with 語句會自動管理檔案開啟與關閉，即使發生例外也會確保檔案被關閉。\n",
    "\n",
    "with open(abs_path, encoding='utf-8') as file:\n",
    "    # 讀寫操作\n",
    "    data = file.read()\n",
    "# 離開 with \n",
    "\n",
    "3.使用 try...finally 確保關閉\n",
    "try:\n",
    "    file = open(abs_path, encoding='utf-8')\n",
    "    # 讀寫操作\n",
    "finally:\n",
    "    file.close()\n",
    "總結\n",
    "關閉檔案能確保系統資源被釋放，資料完整寫入磁碟，避免檔案鎖定問題。建議使用 with 語句來自動管理檔案開啟與關閉，讓程式更安全且易於維護[2][7]。"
   ]
  },
  {
   "cell_type": "markdown",
   "id": "c067539a",
   "metadata": {},
   "source": [
    "names:str是python的list,如何使用亂數的方式取出5個姓名字串"
   ]
  },
  {
   "cell_type": "code",
   "execution_count": null,
   "id": "bdeff365",
   "metadata": {
    "vscode": {
     "languageId": "ini"
    }
   },
   "outputs": [],
   "source": [
    "你可以使用 Python 的 random 模組中的 random.sample() 函數，從 names 這個 list 中隨機且不重複地取出 5 個姓名字串。\n",
    "\n",
    "範例如下：\n",
    "\n",
    "import random\n",
    "\n",
    "names = [\"Alice\", \"Bob\", \"Charlie\", \"David\", \"Eva\", \"Frank\", \"Grace\", \"Helen\"]\n",
    "\n",
    "# 從 names 中隨機抽取 5 個不重複的元素\n",
    "random_names = random.sample(names, 5)\n",
    "\n",
    "print(random_names)\n",
    "· random.sample(population, k)：從 population（此處為 list）中隨機抽取 k 個不重複的元素[1][3]。\n",
    "· 若允許重複抽取，則可用 random.choices(names, k=5)，但通常姓名不重複較合理[1][2]\n",
    "\n",
    "這樣就能用亂數方式取得 5 個不同的姓名字串。"
   ]
  },
  {
   "cell_type": "code",
   "execution_count": 24,
   "id": "8e9bfd1a",
   "metadata": {},
   "outputs": [
    {
     "data": {
      "text/plain": [
       "50"
      ]
     },
     "execution_count": 24,
     "metadata": {},
     "output_type": "execute_result"
    }
   ],
   "source": [
    "import random\n",
    "students_names:list[str]= random.sample(names,k=50)\n",
    "len(students_names)"
   ]
  },
  {
   "cell_type": "code",
   "execution_count": 38,
   "id": "23e8af4f",
   "metadata": {},
   "outputs": [
    {
     "data": {
      "text/plain": [
       "[{'姓名': '簡佳樺', '國文': 97, '英文': 83, '數學': 80},\n",
       " {'姓名': '蔡世馨', '國文': 80, '英文': 89, '數學': 73},\n",
       " {'姓名': '錢欣潔', '國文': 67, '英文': 90, '數學': 84},\n",
       " {'姓名': '黃靜怡', '國文': 73, '英文': 73, '數學': 63},\n",
       " {'姓名': '王惠皓', '國文': 87, '英文': 92, '數學': 87},\n",
       " {'姓名': '吳孟穎', '國文': 80, '英文': 54, '數學': 100},\n",
       " {'姓名': '賴心怡', '國文': 77, '英文': 62, '數學': 86},\n",
       " {'姓名': '林希啟', '國文': 64, '英文': 67, '數學': 56},\n",
       " {'姓名': '陳文賢', '國文': 79, '英文': 53, '數學': 56},\n",
       " {'姓名': '林向鈺', '國文': 97, '英文': 83, '數學': 72},\n",
       " {'姓名': '馮芳如', '國文': 89, '英文': 75, '數學': 61},\n",
       " {'姓名': '趙偉銘', '國文': 60, '英文': 82, '數學': 59},\n",
       " {'姓名': '方雅慧', '國文': 54, '英文': 67, '數學': 83},\n",
       " {'姓名': '蘇凡菁', '國文': 87, '英文': 56, '數學': 88},\n",
       " {'姓名': '黃佩芬', '國文': 71, '英文': 97, '數學': 52},\n",
       " {'姓名': '楊韻如', '國文': 63, '英文': 98, '數學': 86},\n",
       " {'姓名': '孫火清', '國文': 68, '英文': 76, '數學': 72},\n",
       " {'姓名': '余宗儒', '國文': 52, '英文': 54, '數學': 52},\n",
       " {'姓名': '王怡君', '國文': 100, '英文': 80, '數學': 58},\n",
       " {'姓名': '陳向愛', '國文': 91, '英文': 80, '數學': 96},\n",
       " {'姓名': '趙家豪', '國文': 58, '英文': 80, '數學': 83},\n",
       " {'姓名': '賴又琦', '國文': 69, '英文': 98, '數學': 69},\n",
       " {'姓名': '鄭佳玲', '國文': 72, '英文': 93, '數學': 85},\n",
       " {'姓名': '蕭怡伶', '國文': 66, '英文': 97, '數學': 52},\n",
       " {'姓名': '張莉雯', '國文': 85, '英文': 80, '數學': 73},\n",
       " {'姓名': '李雅怡', '國文': 52, '英文': 66, '數學': 69},\n",
       " {'姓名': '周怡啟', '國文': 98, '英文': 98, '數學': 90},\n",
       " {'姓名': '劉雯芬', '國文': 86, '英文': 71, '數學': 76},\n",
       " {'姓名': '陳彥治', '國文': 73, '英文': 88, '數學': 54},\n",
       " {'姓名': '溫法堯', '國文': 60, '英文': 65, '數學': 66},\n",
       " {'姓名': '王明昇', '國文': 85, '英文': 97, '數學': 73},\n",
       " {'姓名': '王人仰', '國文': 73, '英文': 99, '數學': 62},\n",
       " {'姓名': '程玫靖', '國文': 75, '英文': 73, '數學': 51},\n",
       " {'姓名': '林士凱', '國文': 63, '英文': 82, '數學': 67},\n",
       " {'姓名': '葉祖雄', '國文': 81, '英文': 72, '數學': 81},\n",
       " {'姓名': '張雅芬', '國文': 87, '英文': 50, '數學': 86},\n",
       " {'姓名': '鄭琇亞', '國文': 76, '英文': 95, '數學': 51},\n",
       " {'姓名': '李美洋', '國文': 100, '英文': 97, '數學': 87},\n",
       " {'姓名': '劉嘉泰', '國文': 99, '英文': 85, '數學': 77},\n",
       " {'姓名': '陳家維', '國文': 80, '英文': 100, '數學': 69},\n",
       " {'姓名': '林冠蕙', '國文': 59, '英文': 59, '數學': 65},\n",
       " {'姓名': '劉耿琦', '國文': 92, '英文': 57, '數學': 100},\n",
       " {'姓名': '高士凱', '國文': 52, '英文': 73, '數學': 90},\n",
       " {'姓名': '許芳如', '國文': 99, '英文': 74, '數學': 91},\n",
       " {'姓名': '錢佩豪', '國文': 51, '英文': 84, '數學': 98},\n",
       " {'姓名': '簡國瑋', '國文': 57, '英文': 96, '數學': 81},\n",
       " {'姓名': '劉旭士', '國文': 89, '英文': 98, '數學': 74},\n",
       " {'姓名': '劉佳佩', '國文': 83, '英文': 78, '數學': 54},\n",
       " {'姓名': '楊韋廷', '國文': 95, '英文': 99, '數學': 86},\n",
       " {'姓名': '葉軍仰', '國文': 65, '英文': 64, '數學': 86}]"
      ]
     },
     "execution_count": 38,
     "metadata": {},
     "output_type": "execute_result"
    }
   ],
   "source": [
    "import random\n",
    "students_names:list[str]= random.sample(names,k=50)\n",
    "students = []\n",
    "for name in students_names:\n",
    "    stu_dict = dict()\n",
    "    stu_dict[\"姓名\"] = name\n",
    "    stu_dict[\"國文\"] = random.randint(50, 100)\n",
    "    stu_dict[\"英文\"] = random.randint(50, 100)\n",
    "    stu_dict[\"數學\"] = random.randint(50, 100)\n",
    "    students.append(stu_dict)\n",
    "    \n",
    "students "
   ]
  },
  {
   "cell_type": "markdown",
   "id": "b1caef86",
   "metadata": {},
   "source": [
    "我的list內有dict,如何儲存為students.csv"
   ]
  },
  {
   "cell_type": "code",
   "execution_count": null,
   "id": "aad3759f",
   "metadata": {
    "vscode": {
     "languageId": "ini"
    }
   },
   "outputs": [],
   "source": [
    "你可以使用 Python 內建的 csv 模組中的 csv.DictWriter，將你的 list of dict 寫入 CSV 檔案。以下是範例程式碼，示範如何把你的資料儲存成 students.csv：\n",
    "\n",
    "import csv\n",
    "\n",
    "students = [\n",
    "    {'姓名': '錢欣潔', '國文': 100, '英文': 77, '數學': 59},\n",
    "    {'姓名': '許芳如', '國文': 98, '英文': 74, '數學': 99},\n",
    "    {'姓名': '陳怡伶', '國文': 54, '英文': 67, '數學': 79}\n",
    "]\n",
    "\n",
    "# 取得欄位名稱（CSV 標題）\n",
    "fieldnames = students[0].keys()\n",
    "\n",
    "with open('students.csv', mode='w', encoding='utf-8', newline='') as file:\n",
    "    writer = csv.DictWriter(file, fieldnames=fieldnames)\n",
    "    writer.writeheader()       # 寫入欄位名稱\n",
    "    writer.writerows(students) # 寫入多筆資料列\n",
    "\n",
    "print(\"students.csv 已成功儲存\")\n",
    "\n",
    "說明：\n",
    "· fieldnames 取得字典的鍵作為 CSV 欄位標題。\n",
    "· csv.DictWriter 適合寫入字典格式資料，每個字典代表一列。\n",
    "· newline='' 用來避免在 Windows 平台寫入 CSV 時產生空行。\n",
    "· 指定 encoding='utf-8' 可避免中文亂碼。\n",
    "\n",
    "執行後，會產生一個 students.csv，內容類似：\n",
    "\n",
    "姓名,國文,英文,數學\n",
    "錢欣潔,100,77,59\n",
    "許芳如,98,74,99\n",
    "陳怡伶,54,67,79\n",
    "\n",
    "這是將 list of dict 儲存成 CSV 的標準且簡潔做法[1][5][8]。"
   ]
  },
  {
   "cell_type": "code",
   "execution_count": 39,
   "id": "9ba255c3",
   "metadata": {},
   "outputs": [
    {
     "name": "stdout",
     "output_type": "stream",
     "text": [
      "students.csv已經存檔\n"
     ]
    }
   ],
   "source": [
    "#儲存檔案為csv格式\n",
    "\n",
    "import csv\n",
    "from csv import DictWriter\n",
    "\n",
    "field_names:list[str] = list(students[0].keys())\n",
    "with open(\"students.csv\",mode='w',encoding='utf-8',newline='') as file:\n",
    "    writer:DictWriter = csv.DictWriter(file,field_names)\n",
    "    writer.writeheader()\n",
    "    writer.writerows(students)\n",
    "\n",
    "print(\"students.csv已經存檔\")"
   ]
  }
 ],
 "metadata": {
  "kernelspec": {
   "display_name": "base",
   "language": "python",
   "name": "python3"
  },
  "language_info": {
   "codemirror_mode": {
    "name": "ipython",
    "version": 3
   },
   "file_extension": ".py",
   "mimetype": "text/x-python",
   "name": "python",
   "nbconvert_exporter": "python",
   "pygments_lexer": "ipython3",
   "version": "3.12.7"
  }
 },
 "nbformat": 4,
 "nbformat_minor": 5
}
